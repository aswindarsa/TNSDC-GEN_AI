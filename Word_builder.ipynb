{
  "nbformat": 4,
  "nbformat_minor": 0,
  "metadata": {
    "colab": {
      "provenance": []
    },
    "kernelspec": {
      "name": "python3",
      "display_name": "Python 3"
    },
    "language_info": {
      "name": "python"
    }
  },
  "cells": [
    {
      "cell_type": "code",
      "execution_count": 1,
      "metadata": {
        "colab": {
          "base_uri": "https://localhost:8080/"
        },
        "id": "wGA4KI77i8yk",
        "outputId": "2b5fbf1d-1518-4fe6-e085-b81f8d44abab"
      },
      "outputs": [
        {
          "output_type": "stream",
          "name": "stdout",
          "text": [
            "Welcome to the Word Builder game!\n",
            "Player 1 starts by adding a letter to the word.\n",
            "Players take turns adding one letter at a time to build a word.\n",
            "The player who completes a valid word wins the game.\n",
            "Player 1, enter a letter to add to the word (or 'quit' to end the game): l\n",
            "Player 2, enter a letter to add to the word (or 'quit' to end the game): o\n",
            "Player 1, enter a letter to add to the word (or 'quit' to end the game): n\n",
            "Player 2, enter a letter to add to the word (or 'quit' to end the game): g\n",
            "Player 1, enter a letter to add to the word (or 'quit' to end the game): \n",
            "Player 2, enter a letter to add to the word (or 'quit' to end the game): j\n",
            "Player 1, enter a letter to add to the word (or 'quit' to end the game): u\n",
            "Player 2, enter a letter to add to the word (or 'quit' to end the game): m\n",
            "Player 1, enter a letter to add to the word (or 'quit' to end the game): p\n",
            "Player 2, enter a letter to add to the word (or 'quit' to end the game): quit\n",
            "Game ended.\n"
          ]
        }
      ],
      "source": [
        "def word_builder():\n",
        "    word = \"\"\n",
        "    print(\"Welcome to the Word Builder game!\")\n",
        "    print(\"Player 1 starts by adding a letter to the word.\")\n",
        "    print(\"Players take turns adding one letter at a time to build a word.\")\n",
        "    print(\"The player who completes a valid word wins the game.\")\n",
        "\n",
        "    while True:\n",
        "        letter = input(\"Player 1, enter a letter to add to the word (or 'quit' to end the game): \").lower()\n",
        "\n",
        "        if letter == 'quit':\n",
        "            print(\"Game ended.\")\n",
        "            break\n",
        "\n",
        "        word += letter\n",
        "\n",
        "        if len(word) >= 3 and word in valid_words:\n",
        "            print(f\"Congratulations! '{word}' is a valid word. Player 1 wins!\")\n",
        "            break\n",
        "\n",
        "        letter = input(\"Player 2, enter a letter to add to the word (or 'quit' to end the game): \").lower()\n",
        "\n",
        "        if letter == 'quit':\n",
        "            print(\"Game ended.\")\n",
        "            break\n",
        "\n",
        "        word += letter\n",
        "\n",
        "        if len(word) >= 3 and word in valid_words:\n",
        "            print(f\"Congratulations! '{word}' is a valid word. Player 2 wins!\")\n",
        "            break\n",
        "\n",
        "# List of valid words (you can customize this list)\n",
        "valid_words = ['python', 'code', 'game', 'player', 'winner', 'challenge']\n",
        "\n",
        "# Run the game\n",
        "word_builder()\n"
      ]
    }
  ]
}